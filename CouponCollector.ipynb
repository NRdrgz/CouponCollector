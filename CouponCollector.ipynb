{
 "cells": [
  {
   "cell_type": "markdown",
   "metadata": {},
   "source": [
    "# Catch 'Em All: Unlocking the Secrets of the Coupon Collector's Problem"
   ]
  },
  {
   "cell_type": "markdown",
   "metadata": {},
   "source": [
    "## Introduction \n",
    "Have you ever found yourself engrossed in collecting items, perhaps trading cards, stickers, or even digital creatures in your favorite video game? Each new addition brings a sense of achievement, but as your collection grows, the thrill of finding that last missing piece becomes a formidable challenge. What are the odds of completing your collection without endless searching? How many packs would you need to open to find all the different items? Welcome to the fascinating world of the Coupon Collector's Problem!\n",
    "\n",
    "Let's consider an example:\n",
    "\n",
    ">You are playing a game where you need to collect 100 different monsters. These monsters can be obtained through opening boxes. <br>\n",
    ">How many box openings will it take to collect all 100 different monsters? <br>\n",
    ">If you are super lucky, you can obtain all the 100 different monsters in 100 openings<br>\n",
    ">But, **on average**, how many openings are required to collect them all? <br>\n",
    ">We will assume that the probability of obtaining each monster is uniformly distributed, meaning you have an equal chance of getting any monster each time you open a box.\n",
    "\n",
    "This is a classic case of Coupon's collector problem"
   ]
  },
  {
   "cell_type": "markdown",
   "metadata": {},
   "source": [
    "## Simple approach to the problem\n",
    "\n",
    "To simplify the approach to the problem, let's say that it is your first opening of a box. <br>\n",
    "The probability to get a new monster is ... well 1, as you have no other monster. <br>\n",
    "For your second opening of a box, the probability to get a new different one is 99/100, because there is a slight \"chance\" (or bad luck) of 1/100 that you'll have the same monster as your first opening. <br>\n",
    "\n",
    "\n",
    "To generalize our finding, if we already have ***k*** different monsters, the probability to have a new monster out of a pool of ***N*** monsters (in our case ***N*** = 100) is: <br><br>\n",
    "$$\n",
    "\\frac{N-k}{N}\n",
    "$$\n",
    "\n",
    "> If we already have 99 monsters, the probability of finding a new one (the ultimate one!) is 1/100 <br>\n",
    "\n",
    "This follows a geometric distribution of parameter $\\frac{N-k}{N}$.<br>\n",
    "The expectation of this geometric distribution is $\\frac{N}{N-k}$<br>\n",
    "We can interpret this expectation as: <br>\n",
    "> ***After already having k different monsters, we'd need to open on average $\\frac{N}{N-k}$ boxes to get a new one*** <br>\n",
    "> So if we already have 99 monsters, we'd need on average to open 100 boxes to have a new one\n",
    "\n",
    "<br>\n",
    "Let's use this expectation formula <br>\n",
    "If we have 0 monster, the number of box opening to get a new one is: <br>\n",
    "$\\frac{100}{100-0} = 1$ <br>\n",
    "Once we have 1 monster, the number of box opening on average to get a new one is: <br>\n",
    "$\\frac{100}{100-1} = 1.01$ <br><br>\n",
    "\n",
    "So summing both, the average number of box opening to get 2 monsters is 2.01. As we've seen before, there is a slight chance that we'll get the same monster after the 2 box openings.<br>\n",
    "\n",
    "So generalizing, in order to get ***k*** different monsters, we'll need to open: <br>\n",
    "$$\n",
    "\\frac{100}{100-0} + \\frac{100}{100-1} + \\frac{100}{100-2} + ... + \\frac{100}{100-(k-1)}\n",
    "$$\n",
    "boxes <br>\n",
    "\n",
    "Which we can generalize mathematically as:\n",
    "$$\n",
    "\\sum_{i=1}^k \\frac{100}{100-(i-1)}\n",
    "$$\n",
    "<br>\n",
    "\n",
    ">To get k different monsters, we'll need to open on average $\\sum_{i=1}^k \\frac{100}{100-(i-1)}$ boxes"
   ]
  },
  {
   "cell_type": "code",
   "execution_count": 1,
   "metadata": {},
   "outputs": [
    {
     "name": "stdout",
     "output_type": "stream",
     "text": [
      "So to get 95% of the monsters (95) we'd need to open 290 boxes\n",
      "And to be sure to have all 100 distinct monsters we'd need to open on average 518 boxes\n"
     ]
    }
   ],
   "source": [
    "import numpy as np\n",
    "import matplotlib.pyplot as plt\n",
    "#We can build the sum with a for loop\n",
    "\n",
    "N = 100\n",
    "\n",
    "def openbox_depending_on_monster(k):\n",
    "    total = 0\n",
    "    for i in range(1, k + 1):\n",
    "        total += N / (N - (i - 1))\n",
    "    return total\n",
    "\n",
    "#or with a vectorized approach\n",
    "\n",
    "def openbox_depending_on_monster_np(k):\n",
    "    # np.arange creates an array starting from 1 up to k\n",
    "    indices = np.arange(1, k + 1)\n",
    "    # Directly compute the terms using vectorized operations and compute the sum\n",
    "    total = np.sum(N / (N - (indices - 1)))\n",
    "    return total\n",
    "\n",
    "print(\"So to get 95% of the monsters (95) we'd need to open {} boxes\".format(int(openbox_depending_on_monster_np(95))))\n",
    "print(\"And to be sure to have all 100 distinct monsters we'd need to open on average {} boxes\".format(int(openbox_depending_on_monster_np(100))))"
   ]
  },
  {
   "cell_type": "markdown",
   "metadata": {},
   "source": [
    "<br>\n",
    "\n",
    ">**So to get 95% of the monsters (95) we'd need to open 290 boxes**<br>\n",
    ">**And to be sure to have all 100 distinct monsters we'd need to open on average 518 boxes**<br>\n",
    "\n",
    "We can also plot the evolution of the number of our distinct monsters, depending on the number of box opening:\n"
   ]
  },
  {
   "cell_type": "code",
   "execution_count": 2,
   "metadata": {},
   "outputs": [
    {
     "data": {
      "image/png": "[encoded data removed]",
      "text/plain": [
       "<Figure size 720x432 with 1 Axes>"
      ]
     },
     "metadata": {
      "needs_background": "light"
     },
     "output_type": "display_data"
    }
   ],
   "source": [
    "# Range of k values from 1 to 100\n",
    "N = 100\n",
    "k_values = np.arange(1, N)\n",
    "# Compute the sum for each k\n",
    "sum_results = [openbox_depending_on_monster_np(k) for k in k_values]\n",
    "\n",
    "# Create the plot\n",
    "plt.figure(figsize=(10, 6))\n",
    "plt.plot(sum_results, k_values, label=' ')\n",
    "plt.xlabel('Number of box opening')\n",
    "plt.ylabel('Number of distinct monsters')\n",
    "plt.title('Number of distinct monsters depending on the number of box opening')\n",
    "plt.grid(True)\n",
    "plt.legend()\n",
    "plt.show()\n"
   ]
  },
  {
   "cell_type": "markdown",
   "metadata": {},
   "source": [
    "## The opposite approach to the problem - a bit more complex\n",
    "\n",
    "What if we approach the problem from the other side? <br>\n",
    "How many distinct monsters do we get after opening ***N*** boxes? <br>\n",
    "Well we could always look at our charts above and deduce that, but from an statistical point of view, it would look like that: <br> <br>\n",
    "\n",
    "The probability that a monster i has not been picked after ***N*** attempts is $(\\frac{99}{100})^N$ <br>\n",
    "So the probability that the monster i has been picked at least once is $1-(\\frac{99}{100})^N$ <br>\n",
    "Given that each of the 100 monsters has the same probability of appearing, we can use the linearity of expectation to find the expected number of different monsters seen after ***N*** trials: <br>\n",
    "$E(N) = 100\\left(1-(\\frac{99}{100})^N \\right)$"
   ]
  },
  {
   "cell_type": "code",
   "execution_count": 15,
   "metadata": {},
   "outputs": [
    {
     "name": "stdout",
     "output_type": "stream",
     "text": [
      "So after opening 100 boxes, we'll have on average 63 different monsters\n"
     ]
    }
   ],
   "source": [
    "N = 100\n",
    "\n",
    "def monster_depending_on_openbox(k):\n",
    "    total = N*(1-((N-1)/N)**k)\n",
    "    return total\n",
    "\n",
    "print(\"So after opening 100 boxes, we'll have on average {} different monsters\".format(int(monster_depending_on_openbox(100))))"
   ]
  },
  {
   "cell_type": "markdown",
   "metadata": {},
   "source": [
    "\n",
    ">**So after opening 100 boxes, we'll have on average 63 different monsters**<br>"
   ]
  },
  {
   "cell_type": "markdown",
   "metadata": {},
   "source": [
    "## Non uniform distribution - quite more complex\n",
    "\n",
    "Now, what happens if the probabilities of obtaining each monster are not uniform upon opening a box?\n",
    "Let's say we have 90 monsters with a probability of being found of $\\frac{1}{91}$ and 10 rare monsters with a probability of being found of $\\frac{1}{910}$ <br>\n",
    "\n",
    ">How many box openings will it take to collect all 100 different monsters? <br>\n",
    "\n",
    "Well the mathematical approach gets a bit more complicated, so we'll wander toward the world of simulation with Monte Carlo methods\n",
    "\n",
    "### Monte Carlo methods\n",
    "Monte Carlo methods are a type of computational algorithm used to solve problems through random sampling. <br>\n",
    "We are going to simulate multiple series of box openings until we reach our target of unique monsters, and then we will see on average how much box opening did we need."
   ]
  },
  {
   "cell_type": "code",
   "execution_count": 13,
   "metadata": {},
   "outputs": [
    {
     "name": "stdout",
     "output_type": "stream",
     "text": [
      "To have all 100 distinct monsters we'd need to open on average 2658 boxes\n"
     ]
    }
   ],
   "source": [
    "import numpy as np\n",
    "\n",
    "# Define probabilities for each monster\n",
    "probabilities = [1/91] * 90 + [1/910] * 10  \n",
    "#probabilities = [1/100] * 100 #we can do that if we want to simulate with uniform distribution\n",
    "probabilities = np.array(probabilities) / sum(probabilities)  # Normalize probabilities\n",
    "\n",
    "# Number of total monsters\n",
    "total_monsters = len(probabilities)\n",
    "\n",
    "# Target number of unique monsters (we want to reach 100 of unique monsters)\n",
    "target_unique_monsters = 100\n",
    "\n",
    "# Function to simulate opening boxes until we reach the target\n",
    "def simulate_boxes():\n",
    "    collected_monsters = set()\n",
    "    box_count = 0\n",
    "    while len(collected_monsters) < target_unique_monsters:\n",
    "        monster = np.random.choice(total_monsters, p=probabilities)\n",
    "        collected_monsters.add(monster)\n",
    "        box_count += 1\n",
    "    return box_count\n",
    "\n",
    "# Number of simulations\n",
    "num_simulations = 10000\n",
    "results = [simulate_boxes() for _ in range(num_simulations)]\n",
    "\n",
    "# Calculate the average number of boxes needed\n",
    "average_boxes = np.mean(results)\n",
    "print(\"To have all 100 distinct monsters we'd need to open on average {} boxes\".format(int(average_boxes)))\n"
   ]
  },
  {
   "cell_type": "markdown",
   "metadata": {},
   "source": [
    "We can also plot the distribution of our number of box openings"
   ]
  },
  {
   "cell_type": "code",
   "execution_count": 18,
   "metadata": {},
   "outputs": [
    {
     "data": {
      "image/png": "[encoded data removed]",
      "text/plain": [
       "<Figure size 432x288 with 1 Axes>"
      ]
     },
     "metadata": {
      "needs_background": "light"
     },
     "output_type": "display_data"
    }
   ],
   "source": [
    "import matplotlib.pyplot as plt\n",
    "\n",
    "# Plot the distribution of results from the simulations\n",
    "plt.hist(results, bins=30, color='skyblue', edgecolor='black')\n",
    "plt.title('Distribution of Boxes Needed to Collect all monsters')\n",
    "plt.xlabel('Number of Boxes')\n",
    "plt.ylabel('Frequency')\n",
    "plt.grid(True)\n",
    "plt.show()\n"
   ]
  },
  {
   "cell_type": "markdown",
   "metadata": {},
   "source": [
    "## Conclusion\n",
    "Throughout our exploration of the Coupon Collector’s Problem, we’ve journeyed through the realms of probability, expectation, and strategy. From the basic uniform distribution scenarios where every item has an equal chance of being collected, to the more complex landscapes where rarity and unequal probabilities come into play, we’ve seen how mathematical insights can illuminate the path to completing collections efficiently."
   ]
  },
  {
   "cell_type": "markdown",
   "metadata": {},
   "source": [
    "So next time you open a pack or plan a strategy to collect something rare, remember the lessons of the Coupon Collector’s Problem. With a bit of math and a lot of persistence, you’ll find that even the most daunting collections can be completed."
   ]
  }
 ],
 "metadata": {
  "kernelspec": {
   "display_name": "Python 3",
   "language": "python",
   "name": "python3"
  },
  "language_info": {
   "codemirror_mode": {
    "name": "ipython",
    "version": 3
   },
   "file_extension": ".py",
   "mimetype": "text/x-python",
   "name": "python",
   "nbconvert_exporter": "python",
   "pygments_lexer": "ipython3",
   "version": "3.8.3"
  }
 },
 "nbformat": 4,
 "nbformat_minor": 4
}
